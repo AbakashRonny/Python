{
 "cells": [
  {
   "cell_type": "markdown",
   "metadata": {},
   "source": [
    "### Static Variable Creation in Various Places "
   ]
  },
  {
   "cell_type": "code",
   "execution_count": 14,
   "metadata": {},
   "outputs": [],
   "source": [
    "#1. inside class directly \n",
    "\n",
    "class Student:\n",
    "    college=\"xyz college\" #static variable / class level variable \n",
    "    \n",
    "s1=Student()\n",
    "s2=Student()"
   ]
  },
  {
   "cell_type": "code",
   "execution_count": 15,
   "metadata": {},
   "outputs": [
    {
     "name": "stdout",
     "output_type": "stream",
     "text": [
      "{}\n",
      "{}\n"
     ]
    }
   ],
   "source": [
    "print(s1.__dict__)\n",
    "print(s2.__dict__)"
   ]
  },
  {
   "cell_type": "code",
   "execution_count": 16,
   "metadata": {},
   "outputs": [
    {
     "name": "stdout",
     "output_type": "stream",
     "text": [
      "{'__module__': '__main__', 'college': 'xyz college', '__dict__': <attribute '__dict__' of 'Student' objects>, '__weakref__': <attribute '__weakref__' of 'Student' objects>, '__doc__': None}\n"
     ]
    }
   ],
   "source": [
    "print(Student.__dict__)"
   ]
  },
  {
   "cell_type": "code",
   "execution_count": 1,
   "metadata": {},
   "outputs": [
    {
     "name": "stdout",
     "output_type": "stream",
     "text": [
      "Name is Abakash\n",
      "Age is 24\n",
      "Roll is 1024\n",
      "--------------------\n",
      "Name is rahul\n",
      "Age is 25\n",
      "Roll is 1025\n",
      "--------------------\n",
      "Name is zini\n",
      "Age is 24\n",
      "Roll is 1026\n",
      "--------------------\n"
     ]
    }
   ],
   "source": [
    "# 1. ex 2 (isnide class but ouside of constructor and method)\n",
    "\n",
    "class Student:\n",
    "    college=\"abc college\" # static variable / class level variable\n",
    "    branch='CSE' # static variable / class level variable\n",
    "    def __init__(self,name,age,roll):\n",
    "        self.name=name\n",
    "        self.age=age\n",
    "        self.roll=roll\n",
    "        \n",
    "    def printDetails(self):\n",
    "        print(f'Name is {self.name}')\n",
    "        print(f'Age is {self.age}')\n",
    "        print(f'Roll is {self.roll}')\n",
    "        print('-'*20)\n",
    "        \n",
    "s1=Student('Abakash',24,1024)\n",
    "s1.printDetails()\n",
    "s2=Student('rahul',25,1025)\n",
    "s2.printDetails()\n",
    "s3=Student('zini',24,1026)\n",
    "s3.printDetails()"
   ]
  },
  {
   "cell_type": "code",
   "execution_count": 2,
   "metadata": {},
   "outputs": [
    {
     "name": "stdout",
     "output_type": "stream",
     "text": [
      "{'name': 'Abakash', 'age': 24, 'roll': 1024}\n",
      "{'name': 'rahul', 'age': 25, 'roll': 1025}\n",
      "{'name': 'zini', 'age': 24, 'roll': 1026}\n"
     ]
    }
   ],
   "source": [
    "print(s1.__dict__)\n",
    "print(s2.__dict__)\n",
    "print(s3.__dict__)"
   ]
  },
  {
   "cell_type": "code",
   "execution_count": 3,
   "metadata": {},
   "outputs": [
    {
     "name": "stdout",
     "output_type": "stream",
     "text": [
      "{'__module__': '__main__', 'college': 'abc college', 'branch': 'CSE', '__init__': <function Student.__init__ at 0x0000018C713A5EE0>, 'printDetails': <function Student.printDetails at 0x0000018C713A5F80>, '__dict__': <attribute '__dict__' of 'Student' objects>, '__weakref__': <attribute '__weakref__' of 'Student' objects>, '__doc__': None}\n"
     ]
    }
   ],
   "source": [
    "print(Student.__dict__)"
   ]
  },
  {
   "cell_type": "code",
   "execution_count": 4,
   "metadata": {},
   "outputs": [
    {
     "name": "stdout",
     "output_type": "stream",
     "text": [
      "1702671551664\n",
      "1702706662528\n",
      "1702706670976\n",
      "1702706668432\n"
     ]
    }
   ],
   "source": [
    "print(id(Student))\n",
    "print(id(s1))\n",
    "print(id(s2))\n",
    "print(id(s3))"
   ]
  },
  {
   "cell_type": "code",
   "execution_count": 7,
   "metadata": {},
   "outputs": [],
   "source": [
    "#2. Outside of the class (by using class name)\n",
    "\n",
    "class Student:\n",
    "    pass\n",
    "        \n",
    "s1=Student()\n",
    "Student.college=\"def college\" #static variable \n",
    "Student.branch=\"CSE\" #static variable "
   ]
  },
  {
   "cell_type": "code",
   "execution_count": 8,
   "metadata": {},
   "outputs": [
    {
     "name": "stdout",
     "output_type": "stream",
     "text": [
      "{}\n"
     ]
    }
   ],
   "source": [
    "print(s1.__dict__)"
   ]
  },
  {
   "cell_type": "code",
   "execution_count": 9,
   "metadata": {},
   "outputs": [
    {
     "name": "stdout",
     "output_type": "stream",
     "text": [
      "{'__module__': '__main__', '__dict__': <attribute '__dict__' of 'Student' objects>, '__weakref__': <attribute '__weakref__' of 'Student' objects>, '__doc__': None, 'college': 'def college', 'branch': 'CSE'}\n"
     ]
    }
   ],
   "source": [
    "print(Student.__dict__)"
   ]
  },
  {
   "cell_type": "code",
   "execution_count": 12,
   "metadata": {},
   "outputs": [],
   "source": [
    "# 2 EX 2\n",
    "\n",
    "class Student:\n",
    "    def __init__(self,name):\n",
    "        self.name=name \n",
    "\n",
    "        \n",
    "s1=Student('Urmi')\n",
    "Student.college=\"def college\" #static variable \n",
    "Student.branch=\"CSE\" #static variable "
   ]
  },
  {
   "cell_type": "code",
   "execution_count": 13,
   "metadata": {},
   "outputs": [
    {
     "name": "stdout",
     "output_type": "stream",
     "text": [
      "{'name': 'Urmi'}\n"
     ]
    }
   ],
   "source": [
    "print(s1.__dict__)"
   ]
  },
  {
   "cell_type": "code",
   "execution_count": 14,
   "metadata": {},
   "outputs": [
    {
     "name": "stdout",
     "output_type": "stream",
     "text": [
      "{'__module__': '__main__', '__init__': <function Student.__init__ at 0x0000018C713A5E40>, '__dict__': <attribute '__dict__' of 'Student' objects>, '__weakref__': <attribute '__weakref__' of 'Student' objects>, '__doc__': None, 'college': 'def college', 'branch': 'CSE'}\n"
     ]
    }
   ],
   "source": [
    "print(Student.__dict__)"
   ]
  },
  {
   "cell_type": "code",
   "execution_count": 15,
   "metadata": {},
   "outputs": [],
   "source": [
    "#3. inside constructor (using class name)\n",
    "\n",
    "class Student:\n",
    "    def __init__(self):\n",
    "        Student.college=\"ijk college\" #static variable\n",
    "        \n",
    "s1=Student()\n",
    "s2=Student()"
   ]
  },
  {
   "cell_type": "code",
   "execution_count": 16,
   "metadata": {},
   "outputs": [
    {
     "name": "stdout",
     "output_type": "stream",
     "text": [
      "{}\n",
      "{}\n"
     ]
    }
   ],
   "source": [
    "print(s1.__dict__)\n",
    "print(s2.__dict__)"
   ]
  },
  {
   "cell_type": "code",
   "execution_count": 17,
   "metadata": {},
   "outputs": [
    {
     "name": "stdout",
     "output_type": "stream",
     "text": [
      "{'__module__': '__main__', '__init__': <function Student.__init__ at 0x0000018C713A6020>, '__dict__': <attribute '__dict__' of 'Student' objects>, '__weakref__': <attribute '__weakref__' of 'Student' objects>, '__doc__': None, 'college': 'ijk college'}\n"
     ]
    }
   ],
   "source": [
    "print(Student.__dict__)"
   ]
  },
  {
   "cell_type": "code",
   "execution_count": 22,
   "metadata": {},
   "outputs": [],
   "source": [
    "# 3 ex 2\n",
    "\n",
    "class Student:\n",
    "    def __init__(self,name):\n",
    "        Student.college=\"ijk college\" #static variable\n",
    "        Student.branch=\"CSE\"\n",
    "        self.name=name  \n",
    "        \n",
    "s1=Student(\"Urmi\")\n",
    "s2=Student(\"Ronny\")\n"
   ]
  },
  {
   "cell_type": "code",
   "execution_count": 23,
   "metadata": {},
   "outputs": [
    {
     "name": "stdout",
     "output_type": "stream",
     "text": [
      "{'name': 'Urmi'}\n",
      "{'name': 'Ronny'}\n"
     ]
    }
   ],
   "source": [
    "print(s1.__dict__)\n",
    "print(s2.__dict__)"
   ]
  },
  {
   "cell_type": "code",
   "execution_count": 24,
   "metadata": {},
   "outputs": [
    {
     "name": "stdout",
     "output_type": "stream",
     "text": [
      "{'__module__': '__main__', '__init__': <function Student.__init__ at 0x0000018C713A5DA0>, '__dict__': <attribute '__dict__' of 'Student' objects>, '__weakref__': <attribute '__weakref__' of 'Student' objects>, '__doc__': None, 'college': 'ijk college', 'branch': 'CSE'}\n"
     ]
    }
   ],
   "source": [
    "print(Student.__dict__)"
   ]
  },
  {
   "cell_type": "code",
   "execution_count": 25,
   "metadata": {},
   "outputs": [],
   "source": [
    "# 4. inside instance method (using class name)\n",
    "\n",
    "class Student:\n",
    "    def create(self):\n",
    "        Student.college='lmn college' #static varaible\n",
    "    \n",
    "s1=Student()\n",
    "s1.create()"
   ]
  },
  {
   "cell_type": "code",
   "execution_count": 26,
   "metadata": {},
   "outputs": [
    {
     "name": "stdout",
     "output_type": "stream",
     "text": [
      "{}\n"
     ]
    }
   ],
   "source": [
    "print(s1.__dict__)"
   ]
  },
  {
   "cell_type": "code",
   "execution_count": 27,
   "metadata": {},
   "outputs": [
    {
     "name": "stdout",
     "output_type": "stream",
     "text": [
      "{'__module__': '__main__', 'create': <function Student.create at 0x0000018C713A5C60>, '__dict__': <attribute '__dict__' of 'Student' objects>, '__weakref__': <attribute '__weakref__' of 'Student' objects>, '__doc__': None, 'college': 'lmn college'}\n"
     ]
    }
   ],
   "source": [
    "print(Student.__dict__)"
   ]
  },
  {
   "cell_type": "code",
   "execution_count": 28,
   "metadata": {},
   "outputs": [],
   "source": [
    "#4 ex 2\n",
    "\n",
    "\n",
    "class Student:\n",
    "    def create(self,name):\n",
    "        Student.college='lmn college' #static varaible\n",
    "        self.name=name\n",
    "    \n",
    "s1=Student()\n",
    "s1.create(\"Priyanka\")"
   ]
  },
  {
   "cell_type": "code",
   "execution_count": 29,
   "metadata": {},
   "outputs": [
    {
     "name": "stdout",
     "output_type": "stream",
     "text": [
      "{'name': 'Priyanka'}\n"
     ]
    }
   ],
   "source": [
    "print(s1.__dict__)"
   ]
  },
  {
   "cell_type": "code",
   "execution_count": 30,
   "metadata": {},
   "outputs": [
    {
     "name": "stdout",
     "output_type": "stream",
     "text": [
      "{'__module__': '__main__', 'create': <function Student.create at 0x0000018C713A6160>, '__dict__': <attribute '__dict__' of 'Student' objects>, '__weakref__': <attribute '__weakref__' of 'Student' objects>, '__doc__': None, 'college': 'lmn college'}\n"
     ]
    }
   ],
   "source": [
    "print(Student.__dict__)"
   ]
  },
  {
   "cell_type": "code",
   "execution_count": 31,
   "metadata": {},
   "outputs": [],
   "source": [
    "# 5. inside class method (using class name or cls variable )\n",
    "\n",
    "\n",
    "class Student:\n",
    "    @classmethod\n",
    "    def cm(cls):\n",
    "        Student.college=\"opq college\" #static varaible\n",
    "        \n",
    "s1=Student()\n",
    "Student.cm()  # call to class method using class name "
   ]
  },
  {
   "cell_type": "code",
   "execution_count": 32,
   "metadata": {},
   "outputs": [
    {
     "name": "stdout",
     "output_type": "stream",
     "text": [
      "{}\n"
     ]
    }
   ],
   "source": [
    "print(s1.__dict__)"
   ]
  },
  {
   "cell_type": "code",
   "execution_count": 33,
   "metadata": {},
   "outputs": [
    {
     "name": "stdout",
     "output_type": "stream",
     "text": [
      "{'__module__': '__main__', 'cm': <classmethod(<function Student.cm at 0x0000018C713A60C0>)>, '__dict__': <attribute '__dict__' of 'Student' objects>, '__weakref__': <attribute '__weakref__' of 'Student' objects>, '__doc__': None, 'college': 'opq college'}\n"
     ]
    }
   ],
   "source": [
    "print(Student.__dict__)"
   ]
  },
  {
   "cell_type": "code",
   "execution_count": 34,
   "metadata": {},
   "outputs": [
    {
     "name": "stdout",
     "output_type": "stream",
     "text": [
      "1702671565552\n"
     ]
    }
   ],
   "source": [
    "# 5. inside class method (using cls variable )\n",
    "\n",
    "\n",
    "class Student:\n",
    "    @classmethod\n",
    "    def cm(cls):\n",
    "        cls.college=\"rst college\" #static varaible\n",
    "        print(id(cls))\n",
    "        \n",
    "s1=Student()\n",
    "Student.cm()  # call to class method using class name "
   ]
  },
  {
   "cell_type": "code",
   "execution_count": 35,
   "metadata": {},
   "outputs": [
    {
     "name": "stdout",
     "output_type": "stream",
     "text": [
      "{}\n"
     ]
    }
   ],
   "source": [
    "print(s1.__dict__)"
   ]
  },
  {
   "cell_type": "code",
   "execution_count": 36,
   "metadata": {},
   "outputs": [
    {
     "name": "stdout",
     "output_type": "stream",
     "text": [
      "{'__module__': '__main__', 'cm': <classmethod(<function Student.cm at 0x0000018C713A5800>)>, '__dict__': <attribute '__dict__' of 'Student' objects>, '__weakref__': <attribute '__weakref__' of 'Student' objects>, '__doc__': None, 'college': 'rst college'}\n"
     ]
    }
   ],
   "source": [
    "print(Student.__dict__)"
   ]
  },
  {
   "cell_type": "code",
   "execution_count": 37,
   "metadata": {},
   "outputs": [
    {
     "name": "stdout",
     "output_type": "stream",
     "text": [
      "1702671565552\n"
     ]
    }
   ],
   "source": [
    "# cls and Student both are pointing to same objcet \n",
    "print(id(Student))"
   ]
  },
  {
   "cell_type": "code",
   "execution_count": 38,
   "metadata": {},
   "outputs": [],
   "source": [
    "#6. inside static method (using class name)\n",
    "\n",
    "class Student:\n",
    "    @staticmethod\n",
    "    def sm():\n",
    "        Student.college='stv college' #static variable\n",
    "        \n",
    "s1=Student()\n",
    "s1.sm()"
   ]
  },
  {
   "cell_type": "code",
   "execution_count": 39,
   "metadata": {},
   "outputs": [
    {
     "name": "stdout",
     "output_type": "stream",
     "text": [
      "{}\n"
     ]
    }
   ],
   "source": [
    "print(s1.__dict__)"
   ]
  },
  {
   "cell_type": "code",
   "execution_count": 40,
   "metadata": {},
   "outputs": [
    {
     "name": "stdout",
     "output_type": "stream",
     "text": [
      "{'__module__': '__main__', 'sm': <staticmethod(<function Student.sm at 0x0000018C713A51C0>)>, '__dict__': <attribute '__dict__' of 'Student' objects>, '__weakref__': <attribute '__weakref__' of 'Student' objects>, '__doc__': None, 'college': 'stv college'}\n"
     ]
    }
   ],
   "source": [
    "print(Student.__dict__)"
   ]
  },
  {
   "cell_type": "code",
   "execution_count": null,
   "metadata": {},
   "outputs": [],
   "source": [
    "\n"
   ]
  }
 ],
 "metadata": {
  "kernelspec": {
   "display_name": "Python 3",
   "language": "python",
   "name": "python3"
  },
  "language_info": {
   "codemirror_mode": {
    "name": "ipython",
    "version": 3
   },
   "file_extension": ".py",
   "mimetype": "text/x-python",
   "name": "python",
   "nbconvert_exporter": "python",
   "pygments_lexer": "ipython3",
   "version": "3.12.3"
  }
 },
 "nbformat": 4,
 "nbformat_minor": 4
}
