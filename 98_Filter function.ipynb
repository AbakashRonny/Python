{
 "cells": [
  {
   "cell_type": "markdown",
   "metadata": {},
   "source": [
    "# Filter function"
   ]
  },
  {
   "cell_type": "code",
   "execution_count": 1,
   "metadata": {},
   "outputs": [
    {
     "name": "stdout",
     "output_type": "stream",
     "text": [
      "[10, 20, 16, 18]\n"
     ]
    }
   ],
   "source": [
    "#write a program to filter all the even value from a list without using lambda\n",
    "def checkEven(x):\n",
    "    if x%2==0:\n",
    "        return True \n",
    "    else:\n",
    "        return False\n",
    "\n",
    "l=[10,20,21,13,15,16,18,67,51]\n",
    "data=list(filter(checkEven,l))\n",
    "print(data)"
   ]
  },
  {
   "cell_type": "code",
   "execution_count": 2,
   "metadata": {},
   "outputs": [
    {
     "name": "stdout",
     "output_type": "stream",
     "text": [
      "[10, 20, 56, 500]\n"
     ]
    }
   ],
   "source": [
    "#write a program to filter all the even value from a list with using lambda\n",
    "\n",
    "l=[10,20,21,1111,33,17,89,56,19,500]\n",
    "data=list(filter(lambda x:x%2==0,l))\n",
    "print(data)\n"
   ]
  },
  {
   "cell_type": "code",
   "execution_count": null,
   "metadata": {},
   "outputs": [],
   "source": []
  },
  {
   "cell_type": "code",
   "execution_count": 3,
   "metadata": {},
   "outputs": [
    {
     "name": "stdout",
     "output_type": "stream",
     "text": [
      "(10, 20, 56)\n"
     ]
    }
   ],
   "source": [
    "l=[10,20,21,33,17,89,56,19]\n",
    "data=tuple(filter(lambda x:x%2==0,l))\n",
    "print(data)\n"
   ]
  },
  {
   "cell_type": "code",
   "execution_count": 4,
   "metadata": {},
   "outputs": [
    {
     "name": "stdout",
     "output_type": "stream",
     "text": [
      "{56, 10, 20}\n"
     ]
    }
   ],
   "source": [
    "l=[10,20,21,33,17,89,56,19]\n",
    "data=set(filter(lambda x:x%2==0,l))\n",
    "print(data)"
   ]
  },
  {
   "cell_type": "code",
   "execution_count": 5,
   "metadata": {},
   "outputs": [
    {
     "name": "stdout",
     "output_type": "stream",
     "text": [
      "[10, 20, 12, 32, 76]\n"
     ]
    }
   ],
   "source": [
    "#write a program to filter all the even value from a list with using lambda in single \n",
    "print(list(filter(lambda x:x%2==0,[10,20,33,12,32,89,76])))"
   ]
  },
  {
   "cell_type": "code",
   "execution_count": 6,
   "metadata": {},
   "outputs": [
    {
     "name": "stdout",
     "output_type": "stream",
     "text": [
      "(10, 20, 12, 32, 76)\n"
     ]
    }
   ],
   "source": [
    "print(tuple(filter(lambda x:x%2==0,[10,20,33,12,32,89,76])))"
   ]
  },
  {
   "cell_type": "code",
   "execution_count": 7,
   "metadata": {},
   "outputs": [
    {
     "name": "stdout",
     "output_type": "stream",
     "text": [
      "[33, 89, 111, 231]\n"
     ]
    }
   ],
   "source": [
    "print(list(filter(lambda x:x%2!=0,[10,20,33,12,32,89,76,111,231])))"
   ]
  },
  {
   "cell_type": "code",
   "execution_count": 8,
   "metadata": {},
   "outputs": [
    {
     "name": "stdout",
     "output_type": "stream",
     "text": [
      "[-39, -87, -65, -31]\n"
     ]
    }
   ],
   "source": [
    "#filter all the negative from a sequence using filter \n",
    "l=[10,20,-39,49,-87,-65,-31]\n",
    "data=list(filter(lambda x:x<0,l))\n",
    "print(data)\n",
    "# print(list(filter(lambda x:x<0,l)))"
   ]
  },
  {
   "cell_type": "code",
   "execution_count": 9,
   "metadata": {},
   "outputs": [
    {
     "name": "stdout",
     "output_type": "stream",
     "text": [
      "[30, 40]\n"
     ]
    }
   ],
   "source": [
    "# filter out all the common element from both list using filter() function \n",
    "a=[10,20,30,40,50]\n",
    "l=[100,200,30,40,70]\n",
    "\n",
    "data=list(filter(lambda x:x in a,l))\n",
    "print(data)"
   ]
  },
  {
   "cell_type": "code",
   "execution_count": 10,
   "metadata": {},
   "outputs": [
    {
     "name": "stdout",
     "output_type": "stream",
     "text": [
      "[]\n"
     ]
    }
   ],
   "source": [
    "# filter only one name priyanka from a list uisng filter function\n",
    "names=['Abakash','Urmi','rahul','zini','Urmi']\n",
    "data=list(filter(lambda x:x=='priyanka',names))\n",
    "print(data)"
   ]
  },
  {
   "cell_type": "code",
   "execution_count": 11,
   "metadata": {},
   "outputs": [
    {
     "name": "stdout",
     "output_type": "stream",
     "text": [
      "['Abakash', 'Urmi', 'rahul', 'zini', 'Urmi']\n"
     ]
    }
   ],
   "source": [
    "names=['Abakash','Urmi','rahul','zini','Urmi']\n",
    "data=list(filter(lambda x:x!='priyanka',names))\n",
    "print(data)"
   ]
  },
  {
   "cell_type": "code",
   "execution_count": 12,
   "metadata": {},
   "outputs": [
    {
     "name": "stdout",
     "output_type": "stream",
     "text": [
      "{2: 'Urmi', 4: 'zini', 6: 'scoot'}\n"
     ]
    }
   ],
   "source": [
    "d={\n",
    "    1:'Abakash',\n",
    "    2:'Urmi',\n",
    "    3:'rahul',\n",
    "    4:'zini',\n",
    "    5:'jack',\n",
    "    6:'scoot'\n",
    "}\n",
    "\n",
    "data=dict(filter(lambda x:x[0]%2==0,d.items()))\n",
    "print(data)\n",
    "\n"
   ]
  },
  {
   "cell_type": "code",
   "execution_count": 13,
   "metadata": {},
   "outputs": [
    {
     "name": "stdout",
     "output_type": "stream",
     "text": [
      "[2, 4, 6]\n"
     ]
    }
   ],
   "source": [
    "d={\n",
    "    1:'Abakash',\n",
    "    2:'Urmi',\n",
    "    3:'rahul',\n",
    "    4:'zini',\n",
    "    5:'jack',\n",
    "    6:'scoot'\n",
    "}\n",
    "\n",
    "data=list(filter(lambda x:x%2==0,d.keys()))\n",
    "print(data)\n",
    "# print(d.keys())"
   ]
  }
 ],
 "metadata": {
  "kernelspec": {
   "display_name": "Python 3",
   "language": "python",
   "name": "python3"
  },
  "language_info": {
   "codemirror_mode": {
    "name": "ipython",
    "version": 3
   },
   "file_extension": ".py",
   "mimetype": "text/x-python",
   "name": "python",
   "nbconvert_exporter": "python",
   "pygments_lexer": "ipython3",
   "version": "3.12.3"
  }
 },
 "nbformat": 4,
 "nbformat_minor": 4
}
