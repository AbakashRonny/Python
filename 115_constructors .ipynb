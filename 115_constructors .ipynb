{
 "cells": [
  {
   "cell_type": "markdown",
   "metadata": {},
   "source": [
    "### Constructor "
   ]
  },
  {
   "cell_type": "code",
   "execution_count": 1,
   "metadata": {},
   "outputs": [
    {
     "name": "stdout",
     "output_type": "stream",
     "text": [
      "name is Abakash\n",
      "age is 24\n",
      "roll is 1024\n"
     ]
    }
   ],
   "source": [
    "class Student:\n",
    "    def __init__(self,name,age,roll):\n",
    "        self.name=name\n",
    "        self.age=age\n",
    "        self.roll=roll\n",
    "        \n",
    "    def printDeatails(self):\n",
    "        print(f'name is {self.name}')\n",
    "        print(f'age is {self.age}')\n",
    "        print(f'roll is {self.roll}')\n",
    "        \n",
    "\n",
    "s1=Student('Abakash',24,1024) \n",
    "s1.printDeatails()"
   ]
  },
  {
   "cell_type": "code",
   "execution_count": 2,
   "metadata": {},
   "outputs": [
    {
     "ename": "TypeError",
     "evalue": "Student.__init__() missing 1 required positional argument: 'roll'",
     "output_type": "error",
     "traceback": [
      "\u001b[1;31m---------------------------------------------------------------------------\u001b[0m",
      "\u001b[1;31mTypeError\u001b[0m                                 Traceback (most recent call last)",
      "Cell \u001b[1;32mIn[2], line 13\u001b[0m\n\u001b[0;32m      9\u001b[0m         \u001b[38;5;28mprint\u001b[39m(\u001b[38;5;124mf\u001b[39m\u001b[38;5;124m'\u001b[39m\u001b[38;5;124mage is \u001b[39m\u001b[38;5;132;01m{\u001b[39;00m\u001b[38;5;28mself\u001b[39m\u001b[38;5;241m.\u001b[39mage\u001b[38;5;132;01m}\u001b[39;00m\u001b[38;5;124m'\u001b[39m)\n\u001b[0;32m     10\u001b[0m         \u001b[38;5;28mprint\u001b[39m(\u001b[38;5;124mf\u001b[39m\u001b[38;5;124m'\u001b[39m\u001b[38;5;124mroll is \u001b[39m\u001b[38;5;132;01m{\u001b[39;00m\u001b[38;5;28mself\u001b[39m\u001b[38;5;241m.\u001b[39mroll\u001b[38;5;132;01m}\u001b[39;00m\u001b[38;5;124m'\u001b[39m)\n\u001b[1;32m---> 13\u001b[0m s1\u001b[38;5;241m=\u001b[39m\u001b[43mStudent\u001b[49m\u001b[43m(\u001b[49m\u001b[38;5;124;43m'\u001b[39;49m\u001b[38;5;124;43mAbakash\u001b[39;49m\u001b[38;5;124;43m'\u001b[39;49m\u001b[43m,\u001b[49m\u001b[38;5;241;43m24\u001b[39;49m\u001b[43m)\u001b[49m \n\u001b[0;32m     14\u001b[0m s1\u001b[38;5;241m.\u001b[39mprintDeatails()\n",
      "\u001b[1;31mTypeError\u001b[0m: Student.__init__() missing 1 required positional argument: 'roll'"
     ]
    }
   ],
   "source": [
    "class Student:\n",
    "    def __init__(self,name,age,roll):\n",
    "        self.name=name\n",
    "        self.age=age\n",
    "        self.roll=roll\n",
    "        \n",
    "    def printDeatails(self):\n",
    "        print(f'name is {self.name}')\n",
    "        print(f'age is {self.age}')\n",
    "        print(f'roll is {self.roll}')\n",
    "        \n",
    "\n",
    "s1=Student('Abakash',24) \n",
    "s1.printDeatails()"
   ]
  },
  {
   "cell_type": "code",
   "execution_count": 10,
   "metadata": {},
   "outputs": [
    {
     "name": "stdout",
     "output_type": "stream",
     "text": [
      "name is Abakash\n",
      "age is 24\n",
      "roll is 1024\n",
      "name is Abakash\n",
      "age is 24\n",
      "roll is 1024\n",
      "name is Abakash\n",
      "age is 24\n",
      "roll is 1024\n"
     ]
    }
   ],
   "source": [
    "#constructor will only once per objcet \n",
    "class Student:\n",
    "    def __init__(self,name,age,roll):\n",
    "        self.name=name\n",
    "        self.age=age\n",
    "        self.roll=roll\n",
    "        \n",
    "    def printDeatails(self):\n",
    "        print(f'name is {self.name}')\n",
    "        print(f'age is {self.age}')\n",
    "        print(f'roll is {self.roll}')\n",
    "        \n",
    "\n",
    "s1=Student('Abakash',24,1024) \n",
    "s1.printDeatails()\n",
    "s1.printDeatails()\n",
    "s1.printDeatails()"
   ]
  },
  {
   "cell_type": "code",
   "execution_count": 3,
   "metadata": {},
   "outputs": [
    {
     "name": "stdout",
     "output_type": "stream",
     "text": [
      "--------------------\n",
      "name is Abakash\n",
      "age is 24\n",
      "roll is 1024\n",
      "--------------------\n",
      "name is Rahul\n",
      "age is 25\n",
      "roll is 1025\n",
      "--------------------\n",
      "name is Zini\n",
      "age is 24\n",
      "roll is 1026\n"
     ]
    }
   ],
   "source": [
    "#constructor will only once per objcet \n",
    "class Student:\n",
    "    def __init__(self,name,age,roll):\n",
    "        self.name=name\n",
    "        self.age=age\n",
    "        self.roll=roll\n",
    "        \n",
    "    def printDeatails(self):\n",
    "        print('-'*20)\n",
    "        print(f'name is {self.name}')\n",
    "        print(f'age is {self.age}')\n",
    "        print(f'roll is {self.roll}')\n",
    "        \n",
    "\n",
    "s1=Student('Abakash',24,1024) \n",
    "s1.printDeatails()\n",
    "\n",
    "s2=Student('Rahul',25,1025)\n",
    "s2.printDeatails()\n",
    "\n",
    "s3=Student('Zini',24,1026)\n",
    "s3.printDeatails()"
   ]
  },
  {
   "cell_type": "code",
   "execution_count": 4,
   "metadata": {},
   "outputs": [
    {
     "name": "stdout",
     "output_type": "stream",
     "text": [
      "Company name is XYZ pvt. ltd.\n"
     ]
    }
   ],
   "source": [
    "#define a class without constructor \n",
    "class Employee:\n",
    "    def companyName(self):\n",
    "        print(\"Company name is XYZ pvt. ltd.\")\n",
    "        \n",
    "e1=Employee()\n",
    "e1.companyName()"
   ]
  },
  {
   "cell_type": "code",
   "execution_count": 5,
   "metadata": {},
   "outputs": [
    {
     "name": "stdout",
     "output_type": "stream",
     "text": [
      "i m constructor\n",
      "i m constructor\n",
      "i m constructor\n",
      "i m constructor\n"
     ]
    }
   ],
   "source": [
    "#If we will call the constructor manually then python will treat it as a normal method call.\n",
    "\n",
    "class Demo:\n",
    "    def __init__(self):\n",
    "        print('i m constructor')\n",
    "\n",
    "d1=Demo() # constructor will execute automatically \n",
    "d1.__init__() # python will treat __init__(self) as a normal python method \n",
    "d1.__init__()\n",
    "d1.__init__()"
   ]
  },
  {
   "cell_type": "code",
   "execution_count": 6,
   "metadata": {},
   "outputs": [
    {
     "ename": "TypeError",
     "evalue": "Student.__init__() missing 1 required positional argument: 'age'",
     "output_type": "error",
     "traceback": [
      "\u001b[1;31m---------------------------------------------------------------------------\u001b[0m",
      "\u001b[1;31mTypeError\u001b[0m                                 Traceback (most recent call last)",
      "Cell \u001b[1;32mIn[6], line 10\u001b[0m\n\u001b[0;32m      7\u001b[0m         \u001b[38;5;28mself\u001b[39m\u001b[38;5;241m.\u001b[39mname\u001b[38;5;241m=\u001b[39mname\n\u001b[0;32m      8\u001b[0m         \u001b[38;5;28mself\u001b[39m\u001b[38;5;241m.\u001b[39mage\u001b[38;5;241m=\u001b[39mage\n\u001b[1;32m---> 10\u001b[0m s1\u001b[38;5;241m=\u001b[39m\u001b[43mStudent\u001b[49m\u001b[43m(\u001b[49m\u001b[38;5;124;43m'\u001b[39;49m\u001b[38;5;124;43mAbakash\u001b[39;49m\u001b[38;5;124;43m'\u001b[39;49m\u001b[43m)\u001b[49m\n",
      "\u001b[1;31mTypeError\u001b[0m: Student.__init__() missing 1 required positional argument: 'age'"
     ]
    }
   ],
   "source": [
    "#we cant create multiple constructor inside a single class\n",
    "class Student:\n",
    "    def __init__(self,name):\n",
    "        self.name=name\n",
    "\n",
    "    def __init__(self,name,age):\n",
    "        self.name=name\n",
    "        self.age=age\n",
    "        \n",
    "s1=Student('Abakash')\n"
   ]
  },
  {
   "cell_type": "code",
   "execution_count": 7,
   "metadata": {},
   "outputs": [
    {
     "name": "stdout",
     "output_type": "stream",
     "text": [
      "Abakash\n",
      "24\n"
     ]
    }
   ],
   "source": [
    "#we cant create multiple constructor inside a single class\n",
    "class Student:\n",
    "    def __init__(self,name):\n",
    "        self.name=name\n",
    "\n",
    "    def __init__(self,name,age):\n",
    "        self.name=name\n",
    "        self.age=age\n",
    "        \n",
    "    def printDetails(self):\n",
    "        print(self.name)\n",
    "        print(self.age)\n",
    "\n",
    "s1=Student('Abakash',24)\n",
    "s1.printDetails()"
   ]
  },
  {
   "cell_type": "code",
   "execution_count": null,
   "metadata": {},
   "outputs": [
    {
     "name": "stdout",
     "output_type": "stream",
     "text": [
      "i m constructor\n"
     ]
    }
   ],
   "source": [
    "#Non-parameterize \n",
    "class Employee:\n",
    "    def __init__(self):\n",
    "        print('i m constructor')\n",
    "        \n",
    "e1=Employee()"
   ]
  },
  {
   "cell_type": "code",
   "execution_count": 8,
   "metadata": {},
   "outputs": [],
   "source": [
    "#parameterize \n",
    "class Employee:\n",
    "    def __init__(self,name,age):\n",
    "        self.name=name\n",
    "        self.age=age\n",
    "        \n",
    "e1=Employee('Abakash',24)"
   ]
  },
  {
   "cell_type": "code",
   "execution_count": 9,
   "metadata": {},
   "outputs": [
    {
     "name": "stdout",
     "output_type": "stream",
     "text": [
      "Company name is XYZ Pvt. Ltd.\n"
     ]
    }
   ],
   "source": [
    "#default constructor\n",
    "class Employee:\n",
    "    def companyname(self):\n",
    "        print(\"Company name is XYZ Pvt. Ltd.\")\n",
    "        \n",
    "e1=Employee()\n",
    "e1.companyname()"
   ]
  }
 ],
 "metadata": {
  "kernelspec": {
   "display_name": "Python 3",
   "language": "python",
   "name": "python3"
  },
  "language_info": {
   "codemirror_mode": {
    "name": "ipython",
    "version": 3
   },
   "file_extension": ".py",
   "mimetype": "text/x-python",
   "name": "python",
   "nbconvert_exporter": "python",
   "pygments_lexer": "ipython3",
   "version": "3.12.3"
  }
 },
 "nbformat": 4,
 "nbformat_minor": 4
}
