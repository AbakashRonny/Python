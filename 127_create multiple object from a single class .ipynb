{
 "cells": [
  {
   "cell_type": "code",
   "execution_count": 1,
   "metadata": {},
   "outputs": [
    {
     "name": "stdout",
     "output_type": "stream",
     "text": [
      "Name is Abakash\n",
      "Age is 24\n",
      "Roll is 1024\n",
      "--------------------\n",
      "Name is Rahul\n",
      "Age is 25\n",
      "Roll is 1025\n",
      "--------------------\n",
      "Name is Zini\n",
      "Age is 24\n",
      "Roll is 1026\n",
      "--------------------\n",
      "Name is Urmi\n",
      "Age is 25\n",
      "Roll is 1023\n",
      "--------------------\n"
     ]
    }
   ],
   "source": [
    "class Student:\n",
    "    def __init__(self,name,age,roll):\n",
    "        self.name=name\n",
    "        self.age=age\n",
    "        self.roll=roll\n",
    "        \n",
    "    def printDeatils(self):\n",
    "        print(f'Name is {self.name}')\n",
    "        print(f'Age is {self.age}')\n",
    "        print(f'Roll is {self.roll}')\n",
    "        print('-'*20)\n",
    "        \n",
    "    \n",
    "s1=Student('Abakash',24,1024)\n",
    "s1.printDeatils()\n",
    "        \n",
    "s2=Student('Rahul',25,1025)\n",
    "s2.printDeatils()\n",
    "        \n",
    "s3=Student('Zini',24,1026)\n",
    "s3.printDeatils()\n",
    "        \n",
    "s4=Student('Urmi',25,1023)\n",
    "s4.printDeatils()\n",
    "        "
   ]
  },
  {
   "cell_type": "code",
   "execution_count": 2,
   "metadata": {},
   "outputs": [
    {
     "name": "stdout",
     "output_type": "stream",
     "text": [
      "[<__main__.Student object at 0x000001F67AFF9490>, <__main__.Student object at 0x000001F67AFF92E0>, <__main__.Student object at 0x000001F67AFF8260>, <__main__.Student object at 0x000001F67AFF92B0>, <__main__.Student object at 0x000001F67AFF8F20>, <__main__.Student object at 0x000001F67AFF8FE0>, <__main__.Student object at 0x000001F67AFF8440>, <__main__.Student object at 0x000001F67AFF8680>]\n"
     ]
    }
   ],
   "source": [
    "#createing multriple objcets from a single class using (list / loop )\n",
    "\n",
    "class Student:\n",
    "    def __init__(self,name,age,roll):\n",
    "        self.name=name\n",
    "        self.age=age\n",
    "        self.roll=roll\n",
    "        \n",
    "    def printDeatils(self):\n",
    "        print(f'Name is {self.name}')\n",
    "        print(f'Age is {self.age}')\n",
    "        print(f'Roll is {self.roll}')\n",
    "        print('-'*20)\n",
    "\n",
    "names=['Abakash','Rahul','Zini','Urmi','Dev','Anjali','Jack','Scoot']\n",
    "age=[24,25,24,25,59,43,30,22]\n",
    "roll=[1024,1025,1026,1023,1027,1028,1029,1030]\n",
    "\n",
    "obj_list=[]\n",
    "\n",
    "for i in range(len(names)):\n",
    "    s=Student(names[i],age[i],roll[i])\n",
    "    obj_list.append(s)\n",
    "    \n",
    "\n",
    "print(obj_list)"
   ]
  },
  {
   "cell_type": "code",
   "execution_count": null,
   "metadata": {},
   "outputs": [],
   "source": []
  },
  {
   "cell_type": "code",
   "execution_count": 3,
   "metadata": {},
   "outputs": [
    {
     "name": "stdout",
     "output_type": "stream",
     "text": [
      "<__main__.Student object at 0x000001F67AFF9490>\n"
     ]
    }
   ],
   "source": [
    "print(obj_list[0])"
   ]
  },
  {
   "cell_type": "code",
   "execution_count": 4,
   "metadata": {},
   "outputs": [
    {
     "name": "stdout",
     "output_type": "stream",
     "text": [
      "Abakash\n",
      "24\n",
      "1024\n",
      "Rahul\n",
      "25\n",
      "1025\n",
      "Zini\n",
      "24\n",
      "1026\n",
      "Urmi\n",
      "25\n",
      "1023\n",
      "Dev\n",
      "59\n",
      "1027\n",
      "Anjali\n",
      "43\n",
      "1028\n",
      "Jack\n",
      "30\n",
      "1029\n",
      "Scoot\n",
      "22\n",
      "1030\n"
     ]
    }
   ],
   "source": [
    "print(obj_list[0].name)\n",
    "print(obj_list[0].age)\n",
    "print(obj_list[0].roll)\n",
    "\n",
    "print(obj_list[1].name)\n",
    "print(obj_list[1].age)\n",
    "print(obj_list[1].roll)\n",
    "\n",
    "print(obj_list[2].name)\n",
    "print(obj_list[2].age)\n",
    "print(obj_list[2].roll)\n",
    "\n",
    "print(obj_list[3].name)\n",
    "print(obj_list[3].age)\n",
    "print(obj_list[3].roll)\n",
    "\n",
    "print(obj_list[4].name)\n",
    "print(obj_list[4].age)\n",
    "print(obj_list[4].roll)\n",
    "\n",
    "print(obj_list[5].name)\n",
    "print(obj_list[5].age)\n",
    "print(obj_list[5].roll)\n",
    "\n",
    "print(obj_list[6].name)\n",
    "print(obj_list[6].age)\n",
    "print(obj_list[6].roll)\n",
    "\n",
    "print(obj_list[7].name)\n",
    "print(obj_list[7].age)\n",
    "print(obj_list[7].roll)"
   ]
  },
  {
   "cell_type": "code",
   "execution_count": 5,
   "metadata": {},
   "outputs": [
    {
     "name": "stdout",
     "output_type": "stream",
     "text": [
      "Abakash\n",
      "24\n",
      "1024\n",
      "--------------------\n",
      "Rahul\n",
      "25\n",
      "1025\n",
      "--------------------\n",
      "Zini\n",
      "24\n",
      "1026\n",
      "--------------------\n",
      "Urmi\n",
      "25\n",
      "1023\n",
      "--------------------\n",
      "Dev\n",
      "59\n",
      "1027\n",
      "--------------------\n",
      "Anjali\n",
      "43\n",
      "1028\n",
      "--------------------\n",
      "Jack\n",
      "30\n",
      "1029\n",
      "--------------------\n",
      "Scoot\n",
      "22\n",
      "1030\n",
      "--------------------\n"
     ]
    }
   ],
   "source": [
    "for i in range(len(names)):\n",
    "    print(obj_list[i].name)\n",
    "    print(obj_list[i].age)\n",
    "    print(obj_list[i].roll)\n",
    "    print('-'*20)\n",
    "    "
   ]
  }
 ],
 "metadata": {
  "kernelspec": {
   "display_name": "Python 3",
   "language": "python",
   "name": "python3"
  },
  "language_info": {
   "codemirror_mode": {
    "name": "ipython",
    "version": 3
   },
   "file_extension": ".py",
   "mimetype": "text/x-python",
   "name": "python",
   "nbconvert_exporter": "python",
   "pygments_lexer": "ipython3",
   "version": "3.12.3"
  }
 },
 "nbformat": 4,
 "nbformat_minor": 4
}
