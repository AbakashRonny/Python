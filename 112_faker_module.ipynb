{
 "cells": [
  {
   "cell_type": "markdown",
   "metadata": {},
   "source": [
    "### Working with faker module"
   ]
  },
  {
   "cell_type": "code",
   "execution_count": 2,
   "metadata": {},
   "outputs": [
    {
     "name": "stdout",
     "output_type": "stream",
     "text": [
      "Defaulting to user installation because normal site-packages is not writeable\n",
      "Requirement already satisfied: Faker in c:\\users\\victus\\appdata\\roaming\\python\\python310\\site-packages (25.6.0)\n",
      "Requirement already satisfied: python-dateutil>=2.4 in c:\\users\\victus\\appdata\\roaming\\python\\python310\\site-packages (from Faker) (2.9.0.post0)\n",
      "Requirement already satisfied: six>=1.5 in c:\\users\\victus\\appdata\\roaming\\python\\python310\\site-packages (from python-dateutil>=2.4->Faker) (1.16.0)\n"
     ]
    }
   ],
   "source": [
    "! pip install Faker"
   ]
  },
  {
   "cell_type": "code",
   "execution_count": 3,
   "metadata": {},
   "outputs": [
    {
     "name": "stdout",
     "output_type": "stream",
     "text": [
      "Karen Reynolds\n",
      "austin39@example.org\n"
     ]
    }
   ],
   "source": [
    "from faker import Faker\n",
    "#objcet creation \n",
    "fk=Faker()\n",
    "\n",
    "#fake name \n",
    "print(fk.name())\n",
    "print(fk.email())"
   ]
  },
  {
   "cell_type": "code",
   "execution_count": 4,
   "metadata": {},
   "outputs": [
    {
     "name": "stdout",
     "output_type": "stream",
     "text": [
      "8334 Barbara Manors\n",
      "Meganmouth, WI 68053\n"
     ]
    }
   ],
   "source": [
    "print(fk.address())"
   ]
  },
  {
   "cell_type": "code",
   "execution_count": 5,
   "metadata": {},
   "outputs": [
    {
     "name": "stdout",
     "output_type": "stream",
     "text": [
      "Israel\n"
     ]
    }
   ],
   "source": [
    "print(fk.country())"
   ]
  },
  {
   "cell_type": "code",
   "execution_count": 6,
   "metadata": {},
   "outputs": [
    {
     "name": "stdout",
     "output_type": "stream",
     "text": [
      "http://weaver-brown.com/\n"
     ]
    }
   ],
   "source": [
    "print(fk.url())"
   ]
  },
  {
   "cell_type": "code",
   "execution_count": 7,
   "metadata": {},
   "outputs": [
    {
     "name": "stdout",
     "output_type": "stream",
     "text": [
      "Crime million could then. Under sometimes produce history language table push. Treat seven very the.\n",
      "Son rest society. Enough miss even.\n"
     ]
    }
   ],
   "source": [
    "print(fk.text())"
   ]
  },
  {
   "cell_type": "code",
   "execution_count": 8,
   "metadata": {},
   "outputs": [
    {
     "name": "stdout",
     "output_type": "stream",
     "text": [
      "Ebony\n",
      "Gentry\n"
     ]
    }
   ],
   "source": [
    "print(fk.first_name())\n",
    "print(fk.last_name())"
   ]
  },
  {
   "cell_type": "code",
   "execution_count": 9,
   "metadata": {},
   "outputs": [
    {
     "name": "stdout",
     "output_type": "stream",
     "text": [
      "AM\n"
     ]
    }
   ],
   "source": [
    "print(fk.am_pm())"
   ]
  },
  {
   "cell_type": "code",
   "execution_count": 10,
   "metadata": {},
   "outputs": [
    {
     "name": "stdout",
     "output_type": "stream",
     "text": [
      "False\n"
     ]
    }
   ],
   "source": [
    "print(fk.boolean())"
   ]
  },
  {
   "cell_type": "code",
   "execution_count": 11,
   "metadata": {},
   "outputs": [
    {
     "name": "stdout",
     "output_type": "stream",
     "text": [
      "Frederickton\n"
     ]
    }
   ],
   "source": [
    "print(fk.city())"
   ]
  },
  {
   "cell_type": "code",
   "execution_count": 12,
   "metadata": {},
   "outputs": [
    {
     "name": "stdout",
     "output_type": "stream",
     "text": [
      "III\n"
     ]
    }
   ],
   "source": [
    "print(fk.century())"
   ]
  },
  {
   "cell_type": "code",
   "execution_count": 13,
   "metadata": {},
   "outputs": [
    {
     "name": "stdout",
     "output_type": "stream",
     "text": [
      "4396253972321086\n"
     ]
    }
   ],
   "source": [
    "print(fk.credit_card_number())"
   ]
  },
  {
   "cell_type": "code",
   "execution_count": 14,
   "metadata": {},
   "outputs": [
    {
     "name": "stdout",
     "output_type": "stream",
     "text": [
      "#dbcd4e\n"
     ]
    }
   ],
   "source": [
    "print(fk.color())"
   ]
  },
  {
   "cell_type": "code",
   "execution_count": 15,
   "metadata": {},
   "outputs": [
    {
     "name": "stdout",
     "output_type": "stream",
     "text": [
      "Plum\n"
     ]
    }
   ],
   "source": [
    "print(fk.color_name())"
   ]
  },
  {
   "cell_type": "code",
   "execution_count": 16,
   "metadata": {},
   "outputs": [
    {
     "name": "stdout",
     "output_type": "stream",
     "text": [
      "Jordan, Gibson and Allen\n"
     ]
    }
   ],
   "source": [
    "print(fk.company())"
   ]
  },
  {
   "cell_type": "code",
   "execution_count": 17,
   "metadata": {},
   "outputs": [
    {
     "name": "stdout",
     "output_type": "stream",
     "text": [
      "rubenwilson@schwartz.com\n"
     ]
    }
   ],
   "source": [
    "print(fk.company_email())"
   ]
  },
  {
   "cell_type": "code",
   "execution_count": 18,
   "metadata": {},
   "outputs": [
    {
     "name": "stdout",
     "output_type": "stream",
     "text": [
      "\"Allison Nelson\",\"900 Erin Shores\n",
      "Garciaside, SD 87360\"\n",
      "\"Jessica Shea\",\"49304 Lori Mill Apt. 518\n",
      "Michaelhaven, MP 47954\"\n",
      "\"Nicole Zamora\",\"054 Woodward Drive\n",
      "New Kimside, PA 41874\"\n",
      "\"Angela Brown\",\"1745 Robinson Common\n",
      "North Melissaberg, KY 44227\"\n",
      "\"Noah Harrison\",\"79674 Johnson Passage Apt. 238\n",
      "Scottland, SD 19575\"\n",
      "\"Kathryn Jones\",\"79211 Gary Corner Suite 252\n",
      "East Andrewville, RI 84893\"\n",
      "\"Megan Best\",\"1363 Mullen Street\n",
      "Schneiderstad, WI 17340\"\n",
      "\"Paul Davis\",\"9225 Amy Loop Apt. 503\n",
      "South Joseph, WI 79489\"\n",
      "\"Hannah Jackson\",\"400 Diana Parks\n",
      "Williamsberg, PA 80683\"\n",
      "\"Aaron Smith\",\"36898 Amy Landing\n",
      "West Susan, WA 86326\"\n",
      "\n"
     ]
    }
   ],
   "source": [
    "print(fk.csv())"
   ]
  },
  {
   "cell_type": "code",
   "execution_count": 19,
   "metadata": {},
   "outputs": [
    {
     "name": "stdout",
     "output_type": "stream",
     "text": [
      "[{\"name\": \"Emily Palmer\", \"residency\": \"386 Elizabeth Villages Suite 918\\nNorth Katherine, MA 49127\"}, {\"name\": \"Brianna Knapp\", \"residency\": \"7832 Meyer Centers\\nPort Nicole, WY 99570\"}, {\"name\": \"Rachel Harrison\", \"residency\": \"829 Amber Burgs\\nSouth Elizabeth, MN 41609\"}, {\"name\": \"Karen Jones\", \"residency\": \"7567 Carr Forges\\nOrtizberg, GA 08306\"}, {\"name\": \"Autumn Jennings\", \"residency\": \"377 Miller Station\\nJoannafort, PW 91354\"}, {\"name\": \"Randy Pacheco\", \"residency\": \"71976 Cynthia View\\nNorth Melissa, NY 19302\"}, {\"name\": \"Charles Richardson\", \"residency\": \"103 Ruiz Squares\\nMathewtown, NV 26583\"}, {\"name\": \"Angela Martin\", \"residency\": \"1169 Laura Garden Suite 916\\nMillschester, MO 35723\"}, {\"name\": \"Katherine Scott\", \"residency\": \"97069 Stephen Garden Suite 480\\nCourtneymouth, NC 46111\"}, {\"name\": \"Amy Woods\", \"residency\": \"076 Jamie Mission\\nNew Jacquelineside, NJ 91850\"}]\n"
     ]
    }
   ],
   "source": [
    "print(fk.json())"
   ]
  },
  {
   "cell_type": "code",
   "execution_count": 20,
   "metadata": {},
   "outputs": [
    {
     "name": "stdout",
     "output_type": "stream",
     "text": [
      "('DRC', 'Decred')\n"
     ]
    }
   ],
   "source": [
    "print(fk.cryptocurrency())"
   ]
  },
  {
   "cell_type": "code",
   "execution_count": 21,
   "metadata": {},
   "outputs": [
    {
     "name": "stdout",
     "output_type": "stream",
     "text": [
      "('JOD', 'Jordanian dinar')\n"
     ]
    }
   ],
   "source": [
    "print(fk.currency())"
   ]
  },
  {
   "cell_type": "code",
   "execution_count": 22,
   "metadata": {},
   "outputs": [
    {
     "name": "stdout",
     "output_type": "stream",
     "text": [
      "1972-06-01\n"
     ]
    }
   ],
   "source": [
    "print(fk.date())"
   ]
  },
  {
   "cell_type": "code",
   "execution_count": 23,
   "metadata": {},
   "outputs": [
    {
     "name": "stdout",
     "output_type": "stream",
     "text": [
      "2000-11-18\n"
     ]
    }
   ],
   "source": [
    "print(fk.date_of_birth())"
   ]
  },
  {
   "cell_type": "code",
   "execution_count": 24,
   "metadata": {},
   "outputs": [
    {
     "name": "stdout",
     "output_type": "stream",
     "text": [
      "brown.com\n"
     ]
    }
   ],
   "source": [
    "print(fk.domain_name())"
   ]
  },
  {
   "cell_type": "code",
   "execution_count": 25,
   "metadata": {},
   "outputs": [
    {
     "name": "stdout",
     "output_type": "stream",
     "text": [
      "wav\n"
     ]
    }
   ],
   "source": [
    "print(fk.file_extension())"
   ]
  },
  {
   "cell_type": "code",
   "execution_count": 26,
   "metadata": {},
   "outputs": [
    {
     "name": "stdout",
     "output_type": "stream",
     "text": [
      "#db5690\n"
     ]
    }
   ],
   "source": [
    "print(fk.hex_color())"
   ]
  },
  {
   "cell_type": "code",
   "execution_count": 27,
   "metadata": {},
   "outputs": [
    {
     "name": "stdout",
     "output_type": "stream",
     "text": [
      "middle.flac\n"
     ]
    }
   ],
   "source": [
    "print(fk.file_name())"
   ]
  },
  {
   "cell_type": "code",
   "execution_count": 28,
   "metadata": {},
   "outputs": [
    {
     "name": "stdout",
     "output_type": "stream",
     "text": [
      "laptop-65.simmons.org\n"
     ]
    }
   ],
   "source": [
    "print(fk.hostname())"
   ]
  },
  {
   "cell_type": "code",
   "execution_count": 29,
   "metadata": {},
   "outputs": [
    {
     "name": "stdout",
     "output_type": "stream",
     "text": [
      "cindy51@hotmail.com\n"
     ]
    }
   ],
   "source": [
    "print(fk.free_email())"
   ]
  },
  {
   "cell_type": "code",
   "execution_count": 30,
   "metadata": {},
   "outputs": [
    {
     "name": "stdout",
     "output_type": "stream",
     "text": [
      "192.168.88.112\n"
     ]
    }
   ],
   "source": [
    "print(fk.ipv4_private())"
   ]
  },
  {
   "cell_type": "code",
   "execution_count": 31,
   "metadata": {},
   "outputs": [
    {
     "name": "stdout",
     "output_type": "stream",
     "text": [
      "Designer, textile\n"
     ]
    }
   ],
   "source": [
    "print(fk.job())"
   ]
  },
  {
   "cell_type": "code",
   "execution_count": 32,
   "metadata": {},
   "outputs": [
    {
     "name": "stdout",
     "output_type": "stream",
     "text": [
      "07\n"
     ]
    }
   ],
   "source": [
    "print(fk.month())"
   ]
  },
  {
   "cell_type": "code",
   "execution_count": 33,
   "metadata": {},
   "outputs": [
    {
     "name": "stdout",
     "output_type": "stream",
     "text": [
      "Finish system design base budget trip. I teacher ground.\n"
     ]
    }
   ],
   "source": [
    "print(fk.paragraph())"
   ]
  },
  {
   "cell_type": "code",
   "execution_count": 34,
   "metadata": {},
   "outputs": [
    {
     "name": "stdout",
     "output_type": "stream",
     "text": [
      "['Sing senior third tonight personal phone. Democrat listen clearly part test phone leg do. Safe Congress because piece. Enjoy protect back amount.', 'Upon brother peace grow their. Couple little kind usually clearly.', 'Issue score agree yes laugh reveal sound. Wait product town issue. Medical short dog investment large.']\n"
     ]
    }
   ],
   "source": [
    "print(fk.paragraphs())"
   ]
  },
  {
   "cell_type": "code",
   "execution_count": 35,
   "metadata": {},
   "outputs": [
    {
     "name": "stdout",
     "output_type": "stream",
     "text": [
      "Africa/Djibouti\n"
     ]
    }
   ],
   "source": [
    "print(fk.timezone())"
   ]
  },
  {
   "cell_type": "code",
   "execution_count": 36,
   "metadata": {},
   "outputs": [
    {
     "name": "stdout",
     "output_type": "stream",
     "text": [
      "Dutch\n"
     ]
    }
   ],
   "source": [
    "print(fk.language_name())"
   ]
  },
  {
   "cell_type": "code",
   "execution_count": 37,
   "metadata": {},
   "outputs": [
    {
     "name": "stdout",
     "output_type": "stream",
     "text": [
      "goal\n"
     ]
    }
   ],
   "source": [
    "print(fk.word())"
   ]
  },
  {
   "cell_type": "code",
   "execution_count": 38,
   "metadata": {},
   "outputs": [
    {
     "name": "stdout",
     "output_type": "stream",
     "text": [
      "['learn', 'surface', 'beautiful']\n"
     ]
    }
   ],
   "source": [
    "print(fk.words())"
   ]
  },
  {
   "cell_type": "code",
   "execution_count": 39,
   "metadata": {},
   "outputs": [
    {
     "name": "stdout",
     "output_type": "stream",
     "text": [
      "add\n"
     ]
    }
   ],
   "source": [
    "print(fk.word())"
   ]
  },
  {
   "cell_type": "code",
   "execution_count": 40,
   "metadata": {},
   "outputs": [
    {
     "name": "stdout",
     "output_type": "stream",
     "text": [
      "September\n"
     ]
    }
   ],
   "source": [
    "print(fk.month_name())"
   ]
  },
  {
   "cell_type": "code",
   "execution_count": 41,
   "metadata": {},
   "outputs": [
    {
     "name": "stdout",
     "output_type": "stream",
     "text": [
      "v1Sb7ITf)X\n"
     ]
    }
   ],
   "source": [
    "print(fk.password())"
   ]
  },
  {
   "cell_type": "code",
   "execution_count": 42,
   "metadata": {},
   "outputs": [
    {
     "name": "stdout",
     "output_type": "stream",
     "text": [
      "0\n"
     ]
    }
   ],
   "source": [
    "print(fk.random_digit())"
   ]
  },
  {
   "cell_type": "code",
   "execution_count": 43,
   "metadata": {},
   "outputs": [
    {
     "name": "stdout",
     "output_type": "stream",
     "text": [
      "1513\n"
     ]
    }
   ],
   "source": [
    "print(fk.random_int())"
   ]
  },
  {
   "cell_type": "code",
   "execution_count": 44,
   "metadata": {},
   "outputs": [
    {
     "name": "stdout",
     "output_type": "stream",
     "text": [
      "['M', 'y', 'n', 'P', 'S', 'v', 'T', 'X', 'T', 'B', 'd', 'r', 'L', 'g', 'a', 'Y']\n"
     ]
    }
   ],
   "source": [
    "print(fk.random_letters())"
   ]
  },
  {
   "cell_type": "code",
   "execution_count": 45,
   "metadata": {},
   "outputs": [
    {
     "name": "stdout",
     "output_type": "stream",
     "text": [
      "p\n"
     ]
    }
   ],
   "source": [
    "print(fk.random_letter())"
   ]
  },
  {
   "cell_type": "code",
   "execution_count": 46,
   "metadata": {},
   "outputs": [
    {
     "name": "stdout",
     "output_type": "stream",
     "text": [
      "a\n"
     ]
    }
   ],
   "source": [
    "print(fk.random_element())"
   ]
  },
  {
   "cell_type": "code",
   "execution_count": 47,
   "metadata": {},
   "outputs": [
    {
     "name": "stdout",
     "output_type": "stream",
     "text": [
      "['Century officer weight artist win let middle eye.', 'Late difficult if color keep there fine.', 'Color us skin past center consumer.']\n"
     ]
    }
   ],
   "source": [
    "print(fk.sentences())"
   ]
  },
  {
   "cell_type": "code",
   "execution_count": 48,
   "metadata": {},
   "outputs": [
    {
     "name": "stdout",
     "output_type": "stream",
     "text": [
      "50700\n"
     ]
    }
   ],
   "source": [
    "print(fk.zipcode())"
   ]
  },
  {
   "cell_type": "code",
   "execution_count": 49,
   "metadata": {},
   "outputs": [
    {
     "name": "stdout",
     "output_type": "stream",
     "text": [
      "{'job': 'Contractor', 'company': 'Boone, Gallagher and Scott', 'ssn': '508-98-7365', 'residence': '17066 Heather Grove Apt. 915\\nNorth Anthonyside, AL 50466', 'current_location': (Decimal('-31.8570425'), Decimal('46.622110')), 'blood_group': 'A+', 'website': ['https://hall.info/', 'https://www.monroe-hawkins.com/'], 'username': 'paula86', 'name': 'Misty Phillips', 'sex': 'F', 'address': '4978 Chapman Bypass\\nSanchezfurt, MT 87630', 'mail': 'michaelandrade@hotmail.com', 'birthdate': datetime.date(2008, 11, 25)}\n"
     ]
    }
   ],
   "source": [
    "Faker.seed(1)\n",
    "print(fk.profile())"
   ]
  },
  {
   "cell_type": "code",
   "execution_count": null,
   "metadata": {},
   "outputs": [],
   "source": []
  },
  {
   "cell_type": "code",
   "execution_count": 50,
   "metadata": {},
   "outputs": [
    {
     "name": "stdout",
     "output_type": "stream",
     "text": [
      "शनाया नाम\n",
      "यूएई\n",
      "57/070 नूरानी\n",
      "देवगढ़ 283038\n"
     ]
    }
   ],
   "source": [
    "#generate hindi name \n",
    "fk=Faker('hi-IN')\n",
    "print(fk.name())\n",
    "print(fk.country())\n",
    "print(fk.address())"
   ]
  },
  {
   "cell_type": "code",
   "execution_count": null,
   "metadata": {},
   "outputs": [],
   "source": [
    "\n",
    "    \n",
    "   "
   ]
  },
  {
   "cell_type": "code",
   "execution_count": null,
   "metadata": {},
   "outputs": [],
   "source": []
  },
  {
   "cell_type": "code",
   "execution_count": null,
   "metadata": {},
   "outputs": [],
   "source": []
  },
  {
   "cell_type": "code",
   "execution_count": null,
   "metadata": {},
   "outputs": [],
   "source": []
  },
  {
   "cell_type": "code",
   "execution_count": null,
   "metadata": {},
   "outputs": [],
   "source": []
  },
  {
   "cell_type": "code",
   "execution_count": null,
   "metadata": {},
   "outputs": [],
   "source": []
  }
 ],
 "metadata": {
  "kernelspec": {
   "display_name": "Python 3",
   "language": "python",
   "name": "python3"
  },
  "language_info": {
   "codemirror_mode": {
    "name": "ipython",
    "version": 3
   },
   "file_extension": ".py",
   "mimetype": "text/x-python",
   "name": "python",
   "nbconvert_exporter": "python",
   "pygments_lexer": "ipython3",
   "version": "3.12.3"
  }
 },
 "nbformat": 4,
 "nbformat_minor": 4
}
