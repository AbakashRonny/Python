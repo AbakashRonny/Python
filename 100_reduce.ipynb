{
 "cells": [
  {
   "cell_type": "markdown",
   "metadata": {},
   "source": [
    "# reduce"
   ]
  },
  {
   "cell_type": "code",
   "execution_count": 1,
   "metadata": {},
   "outputs": [
    {
     "name": "stdout",
     "output_type": "stream",
     "text": [
      "15\n"
     ]
    }
   ],
   "source": [
    "#find the sum of all element present inside list without using lambda \n",
    "from functools import reduce\n",
    "def addall(x,y):\n",
    "    return x+y\n",
    "\n",
    "l=[1,2,3,4,5]\n",
    "data=reduce(addall,l)\n",
    "print(data)\n"
   ]
  },
  {
   "cell_type": "code",
   "execution_count": 2,
   "metadata": {},
   "outputs": [
    {
     "name": "stdout",
     "output_type": "stream",
     "text": [
      "15\n",
      "<class 'int'>\n"
     ]
    }
   ],
   "source": [
    "#find the sum of all element present inside list with using lambda \n",
    "l1=[1,2,3,4,5]\n",
    "data=reduce(lambda x,y:x+y,l1)\n",
    "print(data)\n",
    "print(type(data))"
   ]
  },
  {
   "cell_type": "code",
   "execution_count": 3,
   "metadata": {},
   "outputs": [
    {
     "name": "stdout",
     "output_type": "stream",
     "text": [
      "1200\n"
     ]
    }
   ],
   "source": [
    "#find the product of all element present inside list with using lambda \n",
    "l1=[1,2,3,4,5]\n",
    "data=reduce(lambda x,y:x*y,l1,10)\n",
    "print(data)"
   ]
  },
  {
   "cell_type": "code",
   "execution_count": 4,
   "metadata": {},
   "outputs": [
    {
     "name": "stdout",
     "output_type": "stream",
     "text": [
      "5050\n"
     ]
    }
   ],
   "source": [
    "# find out the sum of all the elements from 1 to 100\n",
    "\n",
    "data=reduce(lambda x,y:x+y,range(1,101))\n",
    "print(data)"
   ]
  },
  {
   "cell_type": "code",
   "execution_count": 5,
   "metadata": {},
   "outputs": [
    {
     "name": "stdout",
     "output_type": "stream",
     "text": [
      "helloAbakashUrmirahulzini\n",
      "<class 'str'>\n"
     ]
    }
   ],
   "source": [
    "#working with list which is containg string data \n",
    "names=['Abakash','Urmi','rahul','zini']\n",
    "data=reduce(lambda x,y:x+y,names,'hello')\n",
    "print(data)\n",
    "print(type(data))"
   ]
  },
  {
   "cell_type": "code",
   "execution_count": 6,
   "metadata": {},
   "outputs": [
    {
     "name": "stdout",
     "output_type": "stream",
     "text": [
      "10\n"
     ]
    }
   ],
   "source": [
    "#working with dict \n",
    "d={\n",
    "    1:'Abakash',\n",
    "    2:'Urmi',\n",
    "    3:'rahul',\n",
    "    4:'zini'\n",
    "}\n",
    "\n",
    "data=reduce(lambda x,y:x+y,d.keys())\n",
    "print(data)"
   ]
  },
  {
   "cell_type": "code",
   "execution_count": 7,
   "metadata": {},
   "outputs": [
    {
     "name": "stdout",
     "output_type": "stream",
     "text": [
      "AbakashUrmirahulzini\n"
     ]
    }
   ],
   "source": [
    "d={\n",
    "    1:'Abakash',\n",
    "    2:'Urmi',\n",
    "    3:'rahul',\n",
    "    4:'zini'\n",
    "}\n",
    "\n",
    "data=reduce(lambda x,y:x+y,d.values())\n",
    "print(data)"
   ]
  },
  {
   "cell_type": "markdown",
   "metadata": {},
   "source": [
    "# reduce vs accumulate"
   ]
  },
  {
   "cell_type": "code",
   "execution_count": 8,
   "metadata": {},
   "outputs": [
    {
     "name": "stdout",
     "output_type": "stream",
     "text": [
      "[1, 3, 6, 10, 15]\n",
      "15\n"
     ]
    }
   ],
   "source": [
    "from itertools import accumulate\n",
    "l=[1,2,3,4,5]\n",
    "print(list(accumulate(l,lambda x,y:x+y)))\n",
    "print(reduce(lambda x,y:x+y,l1))"
   ]
  },
  {
   "cell_type": "code",
   "execution_count": 9,
   "metadata": {},
   "outputs": [
    {
     "name": "stdout",
     "output_type": "stream",
     "text": [
      "[1, 2, 6, 24, 120]\n",
      "120\n"
     ]
    }
   ],
   "source": [
    "from itertools import accumulate\n",
    "l=[1,2,3,4,5]\n",
    "print(list(accumulate(l,lambda x,y:x*y)))\n",
    "print(reduce(lambda x,y:x*y,l1))"
   ]
  }
 ],
 "metadata": {
  "kernelspec": {
   "display_name": "Python 3",
   "language": "python",
   "name": "python3"
  },
  "language_info": {
   "codemirror_mode": {
    "name": "ipython",
    "version": 3
   },
   "file_extension": ".py",
   "mimetype": "text/x-python",
   "name": "python",
   "nbconvert_exporter": "python",
   "pygments_lexer": "ipython3",
   "version": "3.12.3"
  }
 },
 "nbformat": 4,
 "nbformat_minor": 4
}
